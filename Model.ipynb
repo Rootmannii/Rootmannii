{
 "cells": [
  {
   "cell_type": "code",
   "execution_count": null,
   "metadata": {
    "scrolled": true
   },
   "outputs": [],
   "source": [
    "# Let`s import all packages that we may need:\n",
    "\n",
    "import sys \n",
    "import numpy as np # linear algebra\n",
    "from scipy.stats import randint\n",
    "import pandas as pd # data processing, CSV file I/O (e.g. pd.read_csv), data manipulation as in SQL\n",
    "import matplotlib.pyplot as plt # this is used for the plot the graph \n",
    "import seaborn as sns # used for plot interactive graph. \n",
    "from sklearn.model_selection import train_test_split # to split the data into two parts\n",
    "from sklearn.cross_validation import KFold # use for cross validation\n",
    "from sklearn.preprocessing import StandardScaler # for normalization\n",
    "from sklearn.preprocessing import MinMaxScaler\n",
    "from sklearn.pipeline import Pipeline # pipeline making\n",
    "from sklearn.model_selection import cross_val_score\n",
    "from sklearn.feature_selection import SelectFromModel\n",
    "from sklearn import metrics # for the check the error and accuracy of the model\n",
    "from sklearn.metrics import mean_squared_error,r2_score\n",
    "\n",
    "## for Deep-learing:\n",
    "import keras\n",
    "from keras.layers import Dense\n",
    "from keras.models import Sequential\n",
    "from keras.utils import to_categorical\n",
    "from keras.optimizers import SGD \n",
    "from keras.callbacks import EarlyStopping\n",
    "from keras.utils import np_utils\n",
    "import itertools\n",
    "from keras.layers import LSTM\n",
    "from keras.layers.convolutional import Conv1D\n",
    "from keras.layers.convolutional import MaxPooling1D\n",
    "from keras.layers import Dropout\n",
    "\n"
   ]
  },
  {
   "cell_type": "code",
   "execution_count": null,
   "metadata": {
    "scrolled": true
   },
   "outputs": [],
   "source": [
    "# getting the data \n",
    "df = pd.read_csv('Waste_Management_Database.csv', sep=';', \n",
    "                 parse_dates={'Date' : ['Date']}, infer_datetime_format=True, \n",
    "                 low_memory=False, na_values=['nan','?'], index_col='d')"
   ]
  },
  {
   "cell_type": "code",
   "execution_count": null,
   "metadata": {},
   "outputs": [],
   "source": [
    "df.head()\n"
   ]
  },
  {
   "cell_type": "code",
   "execution_count": null,
   "metadata": {},
   "outputs": [],
   "source": [
    "df.info()"
   ]
  },
  {
   "cell_type": "code",
   "execution_count": null,
   "metadata": {},
   "outputs": [],
   "source": [
    "df.dtypes()"
   ]
  },
  {
   "cell_type": "code",
   "execution_count": null,
   "metadata": {},
   "outputs": [],
   "source": [
    "df.shape()"
   ]
  },
  {
   "cell_type": "code",
   "execution_count": null,
   "metadata": {},
   "outputs": [],
   "source": [
    "df.describe()"
   ]
  },
  {
   "cell_type": "code",
   "execution_count": null,
   "metadata": {},
   "outputs": [],
   "source": [
    "df.columns()"
   ]
  },
  {
   "cell_type": "code",
   "execution_count": null,
   "metadata": {},
   "outputs": [],
   "source": [
    "\n",
    "## finding all columns that have nan:\n",
    "\n",
    "droping_list_all=[]\n",
    "for j in range(0,7):\n",
    "    if not df.iloc[:, j].notnull().all():\n",
    "        droping_list_all.append(j)        \n",
    "        #print(df.iloc[:,j].unique())\n",
    "droping_list_all\n"
   ]
  },
  {
   "cell_type": "code",
   "execution_count": null,
   "metadata": {},
   "outputs": [],
   "source": [
    "\n",
    "# filling nan with mean in any columns\n",
    "\n",
    "for j in range(0,7):        \n",
    "        df.iloc[:,j]=df.iloc[:,j].fillna(df.iloc[:,j].mean())"
   ]
  },
  {
   "cell_type": "code",
   "execution_count": null,
   "metadata": {},
   "outputs": [],
   "source": [
    "df.isnull().sum()"
   ]
  },
  {
   "cell_type": "code",
   "execution_count": null,
   "metadata": {},
   "outputs": [],
   "source": [
    "df.Global_active_power.resample('D').sum().plot(title='waste_management_rate resampled over day for sum') \n",
    "#df.Global_active_power.resample('D').mean().plot(title='Global_active_power resampled over day', color='red') \n",
    "plt.tight_layout()\n",
    "plt.show()   \n",
    "\n",
    "df.Global_active_power.resample('D').mean().plot(title='waste_management_rate resampled over day for sum', color='red') \n",
    "plt.tight_layout()\n",
    "plt.show()"
   ]
  },
  {
   "cell_type": "code",
   "execution_count": null,
   "metadata": {},
   "outputs": [],
   "source": [
    "\n",
    "### Below I show mean and std of 'Global_intensity' resampled over day \n",
    "r = df.Global_intensity.resample('D').agg(['mean', 'std'])\n",
    "r.plot(subplots = True, title='Global_intensity resampled over day')\n",
    "plt.show()"
   ]
  },
  {
   "cell_type": "code",
   "execution_count": null,
   "metadata": {},
   "outputs": [],
   "source": [
    "r2 = df.Global_reactive_power.resample('D').agg(['mean', 'std'])\n",
    "r2.plot(subplots = True, title='Global_reactive_power resampled over day', color='red')\n",
    "plt.show()\n"
   ]
  },
  {
   "cell_type": "code",
   "execution_count": null,
   "metadata": {},
   "outputs": [],
   "source": [
    "### Sum of 'Global_active_power' resampled over month\n",
    "# Sum of 'Global_active_power' resampled over month\n",
    "df['Global_active_power'].resample('M').mean().plot(kind='bar')\n",
    "plt.xticks(rotation=60)\n",
    "plt.ylabel('Global_active_power')\n",
    "plt.title('Global_active_power per month (averaged over month)')\n",
    "plt.show()"
   ]
  },
  {
   "cell_type": "code",
   "execution_count": null,
   "metadata": {},
   "outputs": [],
   "source": [
    "## Mean of 'Global_active_power' resampled over quarter\n",
    "df['Global_active_power'].resample('Q').mean().plot(kind='bar')\n",
    "plt.xticks(rotation=60)\n",
    "plt.ylabel('Global_active_power')\n",
    "plt.title('Global_active_power per quarter (averaged over quarter)')\n",
    "plt.show()\n"
   ]
  },
  {
   "cell_type": "code",
   "execution_count": null,
   "metadata": {},
   "outputs": [],
   "source": [
    "\n",
    "## mean of 'Voltage' resampled over month\n",
    "df['Voltage'].resample('M').mean().plot(kind='bar', color='red')\n",
    "plt.xticks(rotation=60)\n",
    "plt.ylabel('Voltage')\n",
    "plt.title('Voltage per quarter (summed over quarter)')\n",
    "plt.show()"
   ]
  },
  {
   "cell_type": "code",
   "execution_count": null,
   "metadata": {},
   "outputs": [],
   "source": [
    "\n",
    "df['Sub_metering_1'].resample('M').mean().plot(kind='bar', color='brown')\n",
    "plt.xticks(rotation=60)\n",
    "plt.ylabel('Sub_metering_1')\n",
    "plt.title('Sub_metering_1 per quarter (summed over quarter)')\n",
    "plt.show()"
   ]
  },
  {
   "cell_type": "code",
   "execution_count": null,
   "metadata": {},
   "outputs": [],
   "source": [
    "# Below I compare the mean of different featuresresampled over day. \n",
    "# specify columns to plot\n",
    "cols = [0, 1, 2, 3, 5, 6]\n",
    "i = 1\n",
    "groups=cols\n",
    "values = df.resample('D').mean().values\n",
    "# plot each column\n",
    "plt.figure(figsize=(15, 10))\n",
    "for group in groups:\n",
    "\tplt.subplot(len(cols), 1, i)\n",
    "\tplt.plot(values[:, group])\n",
    "\tplt.title(df.columns[group], y=0.75, loc='right')\n",
    "\ti += 1\n",
    "plt.show()"
   ]
  },
  {
   "cell_type": "code",
   "execution_count": null,
   "metadata": {},
   "outputs": [],
   "source": [
    "\n",
    "## resampling over week and computing mean\n",
    "df.Global_reactive_power.resample('W').mean().plot(color='y', legend=True)\n",
    "df.Global_active_power.resample('W').mean().plot(color='r', legend=True)\n",
    "df.Sub_metering_1.resample('W').mean().plot(color='b', legend=True)\n",
    "df.Global_intensity.resample('W').mean().plot(color='g', legend=True)\n",
    "plt.show()"
   ]
  },
  {
   "cell_type": "code",
   "execution_count": null,
   "metadata": {},
   "outputs": [],
   "source": [
    "# Below I show hist plot of the mean of different feature resampled over month \n",
    "df.Global_active_power.resample('M').mean().plot(kind='hist', color='r', legend=True )\n",
    "df.Global_reactive_power.resample('M').mean().plot(kind='hist',color='b', legend=True)\n",
    "#df.Voltage.resample('M').sum().plot(kind='hist',color='g', legend=True)\n",
    "df.Global_intensity.resample('M').mean().plot(kind='hist', color='g', legend=True)\n",
    "df.Sub_metering_1.resample('M').mean().plot(kind='hist', color='y', legend=True)\n",
    "plt.show()"
   ]
  },
  {
   "cell_type": "code",
   "execution_count": null,
   "metadata": {},
   "outputs": [],
   "source": [
    "data_returns = df.pct_change()\n",
    "sns.jointplot(x='Global_intensity', y='Global_active_power', data=data_returns)  \n",
    "\n",
    "plt.show()"
   ]
  },
  {
   "cell_type": "code",
   "execution_count": null,
   "metadata": {},
   "outputs": [],
   "source": [
    "# Correlations among columns\n",
    "plt.matshow(df.corr(method='spearman'),vmax=1,vmin=-1,cmap='PRGn')\n",
    "plt.title('without resampling', size=15)\n",
    "plt.colorbar()\n",
    "plt.show()"
   ]
  },
  {
   "cell_type": "code",
   "execution_count": null,
   "metadata": {},
   "outputs": [],
   "source": [
    "\n",
    "# Correlations of mean of features resampled over months\n",
    "plt.matshow(df.resample('M').mean().corr(method='spearman'),vmax=1,vmin=-1,cmap='PRGn')\n",
    "plt.title('resampled over month', size=15)\n",
    "plt.colorbar()\n",
    "plt.margins(0.02)\n",
    "plt.matshow(df.resample('A').mean().corr(method='spearman'),vmax=1,vmin=-1,cmap='PRGn')\n",
    "plt.title('resampled over year', size=15)\n",
    "plt.colorbar()\n",
    "plt.show()\n"
   ]
  },
  {
   "cell_type": "code",
   "execution_count": null,
   "metadata": {},
   "outputs": [],
   "source": [
    "def series_to_supervised(data, n_in=1, n_out=1, dropnan=True):\n",
    "\tn_vars = 1 if type(data) is list else data.shape[1]\n",
    "\tdff = pd.DataFrame(data)\n",
    "\tcols, names = list(), list()\n",
    "\t# input sequence (t-n, ... t-1)\n",
    "\tfor i in range(n_in, 0, -1):\n",
    "\t\tcols.append(dff.shift(i))\n",
    "\t\tnames += [('var%d(t-%d)' % (j+1, i)) for j in range(n_vars)]\n",
    "\t# forecast sequence (t, t+1, ... t+n)\n",
    "\tfor i in range(0, n_out):\n",
    "\t\tcols.append(dff.shift(-i))\n",
    "\t\tif i == 0:\n",
    "\t\t\tnames += [('var%d(t)' % (j+1)) for j in range(n_vars)]\n",
    "\t\telse:\n",
    "\t\t\tnames += [('var%d(t+%d)' % (j+1, i)) for j in range(n_vars)]\n",
    "\t# put it all together\n",
    "\tagg = pd.concat(cols, axis=1)\n",
    "\tagg.columns = names\n",
    "\t# drop rows with NaN values\n",
    "\tif dropnan:\n",
    "\t\tagg.dropna(inplace=True)\n",
    "\treturn agg\n",
    " "
   ]
  },
  {
   "cell_type": "code",
   "execution_count": null,
   "metadata": {},
   "outputs": [],
   "source": [
    "## resampling of data over hour\n",
    "df_resample = df.resample('h').mean() \n",
    "df_resample.shape"
   ]
  },
  {
   "cell_type": "code",
   "execution_count": null,
   "metadata": {},
   "outputs": [],
   "source": [
    "## * Note: I scale all features in range of [0,1].\n",
    "\n",
    "## If you would like to train based on the resampled data (over hour), then used below\n",
    "values = df_resample.values \n",
    "\n",
    "\n",
    "## full data without resampling\n",
    "#values = df.values\n",
    "\n",
    "# integer encode direction\n",
    "# ensure all data is float\n",
    "#values = values.astype('float32')\n",
    "# normalize features\n",
    "scaler = MinMaxScaler(feature_range=(0, 1))\n",
    "scaled = scaler.fit_transform(values)\n",
    "# frame as supervised learning\n",
    "reframed = series_to_supervised(scaled, 1, 1)\n",
    "\n",
    "# drop columns we don't want to predict\n",
    "reframed.drop(reframed.columns[[8,9,10,11,12,13]], axis=1, inplace=True)\n",
    "print(reframed.head())"
   ]
  },
  {
   "cell_type": "code",
   "execution_count": null,
   "metadata": {},
   "outputs": [],
   "source": [
    "model = Sequential()\n",
    "model.add(LSTM(100, input_shape=(train_X.shape[1], train_X.shape[2])))\n",
    "model.add(Dropout(0.2))\n",
    "#    model.add(LSTM(70))\n",
    "#    model.add(Dropout(0.3))\n",
    "model.add(Dense(1))\n",
    "model.compile(loss='mean_squared_error', optimizer='adam')\n",
    "\n",
    "\n",
    "\n",
    "# fit network\n",
    "history = model.fit(train_X, train_y, epochs=20, batch_size=70, validation_data=(test_X, test_y), verbose=2, shuffle=False)\n",
    "\n",
    "# summarize history for loss\n",
    "plt.plot(history.history['loss'])\n",
    "plt.plot(history.history['val_loss'])\n",
    "plt.title('model loss')\n",
    "plt.ylabel('loss')\n",
    "plt.xlabel('epoch')\n",
    "plt.legend(['train', 'test'], loc='upper right')\n",
    "plt.show()\n",
    "\n",
    "# make a prediction\n",
    "yhat = model.predict(test_X)\n",
    "test_X = test_X.reshape((test_X.shape[0], 7))\n",
    "# invert scaling for forecast\n",
    "inv_yhat = np.concatenate((yhat, test_X[:, -6:]), axis=1)\n",
    "inv_yhat = scaler.inverse_transform(inv_yhat)\n",
    "inv_yhat = inv_yhat[:,0]\n",
    "# invert scaling for actual\n",
    "test_y = test_y.reshape((len(test_y), 1))\n",
    "inv_y = np.concatenate((test_y, test_X[:, -6:]), axis=1)\n",
    "inv_y = scaler.inverse_transform(inv_y)\n",
    "inv_y = inv_y[:,0]\n",
    "# calculate RMSE\n",
    "rmse = np.sqrt(mean_squared_error(inv_y, inv_yhat))\n",
    "print('Test RMSE: %.3f' % rmse)"
   ]
  },
  {
   "cell_type": "code",
   "execution_count": null,
   "metadata": {},
   "outputs": [],
   "source": [
    "\n",
    "Note that in order to improve the model, one has to adjust epochs and batch_size.\n",
    "\n",
    "## time steps, every step is one hour (you can easily convert the time step to the actual time index)\n",
    "## for a demonstration purpose, I only compare the predictions in 200 hours. \n",
    "\n",
    "aa=[x for x in range(200)]\n",
    "plt.plot(aa, inv_y[:200], marker='.', label=\"actual\")\n",
    "plt.plot(aa, inv_yhat[:200], 'r', label=\"prediction\")\n",
    "plt.ylabel('Global_active_power', size=15)\n",
    "plt.xlabel('Time step', size=15)\n",
    "plt.legend(fontsize=15)\n",
    "plt.show()\n"
   ]
  },
  {
   "cell_type": "code",
   "execution_count": null,
   "metadata": {},
   "outputs": [],
   "source": []
  }
 ],
 "metadata": {
  "kernelspec": {
   "display_name": "Python 3",
   "language": "python",
   "name": "python3"
  },
  "language_info": {
   "codemirror_mode": {
    "name": "ipython",
    "version": 3
   },
   "file_extension": ".py",
   "mimetype": "text/x-python",
   "name": "python",
   "nbconvert_exporter": "python",
   "pygments_lexer": "ipython3",
   "version": "3.6.6"
  }
 },
 "nbformat": 4,
 "nbformat_minor": 2
}
